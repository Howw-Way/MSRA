{
 "cells": [
  {
   "cell_type": "markdown",
   "metadata": {},
   "source": [
    "# Description\n",
    "\n",
    "This is my note for comparison Numpy and Torch"
   ]
  },
  {
   "cell_type": "code",
   "execution_count": 1,
   "metadata": {},
   "outputs": [],
   "source": [
    "import numpy as np\n",
    "import torch"
   ]
  },
  {
   "cell_type": "markdown",
   "metadata": {},
   "source": [
    "## Zeros\n",
    "\n",
    "This is the same with `ones`, for `numpy`, it can build the array with user-defined data structure, such as the following one: \n"
   ]
  },
  {
   "cell_type": "code",
   "execution_count": 6,
   "metadata": {},
   "outputs": [
    {
     "data": {
      "text/plain": [
       "array([([0., 0.], 0., 0., [0., 0., 0., 0.]),\n",
       "       ([0., 0.], 0., 0., [0., 0., 0., 0.]),\n",
       "       ([0., 0.], 0., 0., [0., 0., 0., 0.]),\n",
       "       ([0., 0.], 0., 0., [0., 0., 0., 0.]),\n",
       "       ([0., 0.], 0., 0., [0., 0., 0., 0.])],\n",
       "      dtype=[('position', '<f8', (2,)), ('size', '<f8'), ('growth', '<f8'), ('color', '<f8', (4,))])"
      ]
     },
     "execution_count": 6,
     "metadata": {},
     "output_type": "execute_result"
    }
   ],
   "source": [
    "rain_drops = np.zeros(5, dtype=[('position', float, (2,)),\n",
    "                                      ('size',     float),\n",
    "                                      ('growth',   float),\n",
    "                                      ('color',    float, (4,))])\n",
    "rain_drops\n"
   ]
  },
  {
   "cell_type": "markdown",
   "metadata": {},
   "source": [
    "With the user-defined structure, you can easily use the data with new indexing method [\"name\"]"
   ]
  },
  {
   "cell_type": "code",
   "execution_count": 7,
   "metadata": {},
   "outputs": [
    {
     "data": {
      "text/plain": [
       "array([[0., 0.],\n",
       "       [0., 0.],\n",
       "       [0., 0.],\n",
       "       [0., 0.],\n",
       "       [0., 0.]])"
      ]
     },
     "execution_count": 7,
     "metadata": {},
     "output_type": "execute_result"
    }
   ],
   "source": [
    "rain_drops[\"position\"]"
   ]
  },
  {
   "cell_type": "markdown",
   "metadata": {},
   "source": [
    "But, according to my knowledge, there is no such usage in `pytorch`.\n",
    "\n",
    "I will define two class for saving data, you can feel the difference, and of course, the convenience of the self-defined structure in `numpy`"
   ]
  },
  {
   "cell_type": "code",
   "execution_count": 8,
   "metadata": {},
   "outputs": [],
   "source": [
    "class save_np:\n",
    "    'this class is used for save the data, in which nx, ny stands for the mesh size, nt is the total number of time step, dt is the size of time step'\n",
    "    def __init__(self,nx,ny,dt,nt):\n",
    "        self.T_total=int(100*dt*nt)#muliplying 100 makes T is in milliseconds\n",
    "        self.save=np.zeros(self.T_total,dtype=[(\"u\",float,(nx,ny)),\n",
    "        (\"v\",float,(nx,ny)),(\"p\",float,(nx,ny))])\n",
    "    \n",
    "    \"this function is used to record the data\"\n",
    "    def record(self,i,u_in,v_in,p_in):\n",
    "        self.save[\"u\"][i]=u_in\n",
    "        self.save[\"v\"][i]=v_in\n",
    "        self.save[\"p\"][i]=p_in\n",
    "\n",
    "    def out(self):\n",
    "        return self.save"
   ]
  },
  {
   "cell_type": "code",
   "execution_count": 9,
   "metadata": {},
   "outputs": [],
   "source": [
    "u1=np.arange(16).reshape(4,4)\n",
    "v1=np.ones([4,4])\n",
    "p1=np.zeros([4,4])\n",
    "\n",
    "u2=2*np.ones([4,4])\n",
    "v2=3*np.ones([4,4])\n",
    "p2=4*np.ones([4,4])\n",
    "\n",
    "u3=-2*torch.ones([4,4])\n",
    "v3=-3*torch.ones([4,4])\n",
    "p3=-4*torch.ones([4,4])"
   ]
  },
  {
   "cell_type": "code",
   "execution_count": 18,
   "metadata": {},
   "outputs": [
    {
     "data": {
      "text/plain": [
       "array([[[ 0.,  1.,  2.,  3.],\n",
       "        [ 4.,  5.,  6.,  7.],\n",
       "        [ 8.,  9., 10., 11.],\n",
       "        [12., 13., 14., 15.]],\n",
       "\n",
       "       [[ 2.,  2.,  2.,  2.],\n",
       "        [ 2.,  2.,  2.,  2.],\n",
       "        [ 2.,  2.,  2.,  2.],\n",
       "        [ 2.,  2.,  2.,  2.]],\n",
       "\n",
       "       [[-2., -2., -2., -2.],\n",
       "        [-2., -2., -2., -2.],\n",
       "        [-2., -2., -2., -2.],\n",
       "        [-2., -2., -2., -2.]],\n",
       "\n",
       "       [[ 0.,  0.,  0.,  0.],\n",
       "        [ 0.,  0.,  0.,  0.],\n",
       "        [ 0.,  0.,  0.,  0.],\n",
       "        [ 0.,  0.,  0.,  0.]],\n",
       "\n",
       "       [[ 0.,  0.,  0.,  0.],\n",
       "        [ 0.,  0.,  0.,  0.],\n",
       "        [ 0.,  0.,  0.,  0.],\n",
       "        [ 0.,  0.,  0.,  0.]],\n",
       "\n",
       "       [[ 0.,  0.,  0.,  0.],\n",
       "        [ 0.,  0.,  0.,  0.],\n",
       "        [ 0.,  0.,  0.,  0.],\n",
       "        [ 0.,  0.,  0.,  0.]],\n",
       "\n",
       "       [[ 0.,  0.,  0.,  0.],\n",
       "        [ 0.,  0.,  0.,  0.],\n",
       "        [ 0.,  0.,  0.,  0.],\n",
       "        [ 0.,  0.,  0.,  0.]],\n",
       "\n",
       "       [[ 0.,  0.,  0.,  0.],\n",
       "        [ 0.,  0.,  0.,  0.],\n",
       "        [ 0.,  0.,  0.,  0.],\n",
       "        [ 0.,  0.,  0.,  0.]],\n",
       "\n",
       "       [[ 0.,  0.,  0.,  0.],\n",
       "        [ 0.,  0.,  0.,  0.],\n",
       "        [ 0.,  0.,  0.,  0.],\n",
       "        [ 0.,  0.,  0.,  0.]],\n",
       "\n",
       "       [[ 0.,  0.,  0.,  0.],\n",
       "        [ 0.,  0.,  0.,  0.],\n",
       "        [ 0.,  0.,  0.,  0.],\n",
       "        [ 0.,  0.,  0.,  0.]]])"
      ]
     },
     "execution_count": 18,
     "metadata": {},
     "output_type": "execute_result"
    }
   ],
   "source": [
    "s1=save_np(4,4,0.1,1)\n",
    "s1.record(0,u1,v1,p1)\n",
    "s1.record(1,u2,v2,p2)\n",
    "s1.record(2,u3,v3,p3)\n",
    "\n",
    "all=s1.out()\n",
    "all[\"u\"]"
   ]
  },
  {
   "cell_type": "code",
   "execution_count": 20,
   "metadata": {},
   "outputs": [],
   "source": [
    "class save_torch:\n",
    "    'this class is used for save the data'\n",
    "    def __init__(self,nx,ny,dt,nt):\n",
    "        self.T_total=int(100*dt*nt)\n",
    "        self.u_save=torch.zeros([self.T_total,nx,ny],dtype=torch.float32)\n",
    "        self.v_save=torch.zeros([self.T_total,nx,ny],dtype=torch.float32)\n",
    "        self.p_save=torch.zeros([self.T_total,nx,ny],dtype=torch.float32)\n",
    "\n",
    "    def record(self,i,u_in,v_in,p_in):\n",
    "        self.u_save[i]=u_in\n",
    "        self.v_save[i]=v_in\n",
    "        self.p_save[i]=p_in\n",
    "\n",
    "    def out(self):\n",
    "        return self.u_save,self.v_save,self.p_save"
   ]
  },
  {
   "cell_type": "code",
   "execution_count": 19,
   "metadata": {},
   "outputs": [],
   "source": [
    "#torch can't save array, so all the data should be tensor\n",
    "ut1=torch.arange(16).reshape(4,4)\n",
    "vt1=torch.ones([4,4])\n",
    "pt1=torch.zeros([4,4])\n",
    "\n",
    "ut2=2*torch.ones([4,4])\n",
    "vt2=3*torch.ones([4,4])\n",
    "pt2=4*torch.ones([4,4])\n",
    "\n",
    "ut3=-2*torch.ones([4,4])\n",
    "vt3=-3*torch.ones([4,4])\n",
    "pt3=-4*torch.ones([4,4])"
   ]
  },
  {
   "cell_type": "code",
   "execution_count": 21,
   "metadata": {},
   "outputs": [
    {
     "data": {
      "text/plain": [
       "tensor([[[ 0.,  0.,  0.,  0.],\n",
       "         [ 0.,  0.,  0.,  0.],\n",
       "         [ 0.,  0.,  0.,  0.],\n",
       "         [ 0.,  0.,  0.,  0.]],\n",
       "\n",
       "        [[ 0.,  0.,  0.,  0.],\n",
       "         [ 0.,  0.,  0.,  0.],\n",
       "         [ 0.,  0.,  0.,  0.],\n",
       "         [ 0.,  0.,  0.,  0.]],\n",
       "\n",
       "        [[-2., -2., -2., -2.],\n",
       "         [-2., -2., -2., -2.],\n",
       "         [-2., -2., -2., -2.],\n",
       "         [-2., -2., -2., -2.]],\n",
       "\n",
       "        [[ 0.,  0.,  0.,  0.],\n",
       "         [ 0.,  0.,  0.,  0.],\n",
       "         [ 0.,  0.,  0.,  0.],\n",
       "         [ 0.,  0.,  0.,  0.]],\n",
       "\n",
       "        [[ 0.,  0.,  0.,  0.],\n",
       "         [ 0.,  0.,  0.,  0.],\n",
       "         [ 0.,  0.,  0.,  0.],\n",
       "         [ 0.,  0.,  0.,  0.]],\n",
       "\n",
       "        [[ 0.,  0.,  0.,  0.],\n",
       "         [ 0.,  0.,  0.,  0.],\n",
       "         [ 0.,  0.,  0.,  0.],\n",
       "         [ 0.,  0.,  0.,  0.]],\n",
       "\n",
       "        [[ 0.,  0.,  0.,  0.],\n",
       "         [ 0.,  0.,  0.,  0.],\n",
       "         [ 0.,  0.,  0.,  0.],\n",
       "         [ 0.,  0.,  0.,  0.]],\n",
       "\n",
       "        [[ 0.,  0.,  0.,  0.],\n",
       "         [ 0.,  0.,  0.,  0.],\n",
       "         [ 0.,  0.,  0.,  0.],\n",
       "         [ 0.,  0.,  0.,  0.]],\n",
       "\n",
       "        [[ 0.,  0.,  0.,  0.],\n",
       "         [ 0.,  0.,  0.,  0.],\n",
       "         [ 0.,  0.,  0.,  0.],\n",
       "         [ 0.,  0.,  0.,  0.]],\n",
       "\n",
       "        [[ 0.,  0.,  0.,  0.],\n",
       "         [ 0.,  0.,  0.,  0.],\n",
       "         [ 0.,  0.,  0.,  0.],\n",
       "         [ 0.,  0.,  0.,  0.]]])"
      ]
     },
     "execution_count": 21,
     "metadata": {},
     "output_type": "execute_result"
    }
   ],
   "source": [
    "s2=save_torch(4,4,0.1,1)\n",
    "s2.record(2,u3,v3,p3)\n",
    "\n",
    "u,v,p=s2.out()\n",
    "u"
   ]
  },
  {
   "cell_type": "markdown",
   "metadata": {},
   "source": [
    "## roll\n",
    "\n",
    "There is only a small different, the last parameter (the axis/dimensions to be rolled)\n",
    "\n",
    "For [`numpy`](https://numpy.org/doc/stable/reference/generated/numpy.roll.html), the parameters in `roll` is axis, for [`torch`](https://pytorch.org/docs/stable/generated/torch.roll.html), the parameters in function `roll` is the dims"
   ]
  },
  {
   "cell_type": "code",
   "execution_count": 2,
   "metadata": {},
   "outputs": [
    {
     "data": {
      "text/plain": [
       "tensor([[ 0,  1,  2,  3],\n",
       "        [ 4,  5,  6,  7],\n",
       "        [ 8,  9, 10, 11]])"
      ]
     },
     "execution_count": 2,
     "metadata": {},
     "output_type": "execute_result"
    }
   ],
   "source": [
    "torch_origin=torch.arange(12).reshape(3,4)\n",
    "torch_origin"
   ]
  },
  {
   "cell_type": "code",
   "execution_count": 25,
   "metadata": {},
   "outputs": [
    {
     "data": {
      "text/plain": [
       "tensor([[ 1,  2,  3,  0],\n",
       "        [ 5,  6,  7,  4],\n",
       "        [ 9, 10, 11,  8]])"
      ]
     },
     "execution_count": 25,
     "metadata": {},
     "output_type": "execute_result"
    }
   ],
   "source": [
    "torch.roll(torch_origin,-1,dims=1)"
   ]
  },
  {
   "cell_type": "code",
   "execution_count": 22,
   "metadata": {},
   "outputs": [
    {
     "data": {
      "text/plain": [
       "array([[ 0,  1,  2,  3],\n",
       "       [ 4,  5,  6,  7],\n",
       "       [ 8,  9, 10, 11]])"
      ]
     },
     "execution_count": 22,
     "metadata": {},
     "output_type": "execute_result"
    }
   ],
   "source": [
    "np_origin=np.arange(12).reshape(3,4)\n",
    "np_origin"
   ]
  },
  {
   "cell_type": "code",
   "execution_count": 26,
   "metadata": {},
   "outputs": [
    {
     "data": {
      "text/plain": [
       "array([[ 1,  2,  3,  0],\n",
       "       [ 5,  6,  7,  4],\n",
       "       [ 9, 10, 11,  8]])"
      ]
     },
     "execution_count": 26,
     "metadata": {},
     "output_type": "execute_result"
    }
   ],
   "source": [
    "np.roll(np_origin,-1,axis=1)"
   ]
  },
  {
   "cell_type": "markdown",
   "metadata": {},
   "source": [
    "## copy()\n",
    "\n",
    "For numpy, the function [`copy()`](https://numpy.org/doc/stable/reference/generated/numpy.copy.html) is helpful, and for torch, you should use the function [`clone()`](https://pytorch.org/docs/stable/generated/torch.clone.html)"
   ]
  },
  {
   "cell_type": "code",
   "execution_count": 7,
   "metadata": {},
   "outputs": [],
   "source": [
    "np_origin=np.arange(12)\n",
    "np_copy1=np.copy(np_origin)\n",
    "np_copy2=np_origin.copy()"
   ]
  },
  {
   "cell_type": "code",
   "execution_count": 8,
   "metadata": {},
   "outputs": [],
   "source": [
    "torch_origin=torch.arange(12)\n",
    "torch_copy1=torch.clone(torch_origin)\n",
    "#or\n",
    "torch_copy2=torch_origin.clone()\n"
   ]
  },
  {
   "cell_type": "markdown",
   "metadata": {},
   "source": [
    "## random\n",
    "\n",
    "`np.random.rand`=`torch.rand`"
   ]
  },
  {
   "cell_type": "code",
   "execution_count": 2,
   "metadata": {},
   "outputs": [
    {
     "data": {
      "text/plain": [
       "array([0.53962225, 0.58631117])"
      ]
     },
     "execution_count": 2,
     "metadata": {},
     "output_type": "execute_result"
    }
   ],
   "source": [
    "np_rand=np.random.rand(2)\n",
    "np_rand"
   ]
  },
  {
   "cell_type": "code",
   "execution_count": 3,
   "metadata": {},
   "outputs": [
    {
     "data": {
      "text/plain": [
       "tensor([0.8484, 0.6812])"
      ]
     },
     "execution_count": 3,
     "metadata": {},
     "output_type": "execute_result"
    }
   ],
   "source": [
    "torch_rand=torch.rand(2)\n",
    "torch_rand"
   ]
  },
  {
   "cell_type": "markdown",
   "metadata": {},
   "source": [
    "## meshgrid\n",
    "\n",
    "For [numpy](https://numpy.org/doc/stable/reference/generated/numpy.meshgrid.html), the index is set as the 'xy' as default. While for [torch](https://pytorch.org/docs/stable/generated/torch.meshgrid.html), the indexing need to specify. (According to the documents, in future, `torch.meshgrid` will transition to indexing=’xy’ as the default)"
   ]
  },
  {
   "cell_type": "code",
   "execution_count": 6,
   "metadata": {},
   "outputs": [
    {
     "name": "stdout",
     "output_type": "stream",
     "text": [
      "(2, 3, 2)\n"
     ]
    },
    {
     "data": {
      "text/plain": [
       "(array([[0, 1, 2],\n",
       "        [0, 1, 2]]),\n",
       " array([[0, 0, 0],\n",
       "        [1, 1, 1]]))"
      ]
     },
     "execution_count": 6,
     "metadata": {},
     "output_type": "execute_result"
    }
   ],
   "source": [
    "h,w=2,3\n",
    "x_np,y_np=np.meshgrid(np.arange(w),np.arange(h))\n",
    "xy_np=np.stack([x_np,y_np],axis=-1)\n",
    "print(xy_np.shape)\n",
    "(x_np,y_np)"
   ]
  },
  {
   "cell_type": "code",
   "execution_count": 12,
   "metadata": {},
   "outputs": [
    {
     "name": "stdout",
     "output_type": "stream",
     "text": [
      "torch.Size([3, 2, 2])\n"
     ]
    },
    {
     "data": {
      "text/plain": [
       "(tensor([[0, 0],\n",
       "         [1, 1],\n",
       "         [2, 2]]),\n",
       " tensor([[0, 1],\n",
       "         [0, 1],\n",
       "         [0, 1]]))"
      ]
     },
     "execution_count": 12,
     "metadata": {},
     "output_type": "execute_result"
    }
   ],
   "source": [
    "x_torch,y_torch=torch.meshgrid(torch.arange(w),torch.arange(h), indexing='xy')\n",
    "xy_torch=torch.stack([x_torch,y_torch],axis=-1)\n",
    "print(xy_torch.shape)\n",
    "(x_torch,y_torch)"
   ]
  }
 ],
 "metadata": {
  "kernelspec": {
   "display_name": "Python 3.9.12 ('base')",
   "language": "python",
   "name": "python3"
  },
  "language_info": {
   "codemirror_mode": {
    "name": "ipython",
    "version": 3
   },
   "file_extension": ".py",
   "mimetype": "text/x-python",
   "name": "python",
   "nbconvert_exporter": "python",
   "pygments_lexer": "ipython3",
   "version": "3.9.7"
  },
  "orig_nbformat": 4,
  "vscode": {
   "interpreter": {
    "hash": "4ef47994b0551649bce221871cdee5a6f6ace75762353509471866228a974804"
   }
  }
 },
 "nbformat": 4,
 "nbformat_minor": 2
}
