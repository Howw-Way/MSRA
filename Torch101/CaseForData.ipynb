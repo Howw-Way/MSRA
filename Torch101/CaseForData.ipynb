{
 "cells": [
  {
   "cell_type": "code",
   "execution_count": 65,
   "id": "1979d5e4",
   "metadata": {},
   "outputs": [],
   "source": [
    "import os\n",
    "import pandas as pd\n",
    "import torch\n",
    "import numpy as np\n",
    "from torchvision.io import read_image\n",
    "from torch.utils.data import Dataset\n",
    "from torch.utils.data import DataLoader\n",
    "from torchvision import datasets\n",
    "from torchvision.transforms import ToTensor"
   ]
  },
  {
   "cell_type": "code",
   "execution_count": 6,
   "id": "ac72ec0e",
   "metadata": {},
   "outputs": [],
   "source": [
    "# Download training data from open datasets, including 60000 \n",
    "training_data = datasets.FashionMNIST(\n",
    "    root=\"data\",\n",
    "    train=True,\n",
    "    download=True,\n",
    "    transform=ToTensor(),\n",
    ")\n",
    "\n",
    "# Download test data from open datasets, including 1000\n",
    "test_data = datasets.FashionMNIST(\n",
    "    root=\"data\",\n",
    "    train=False,\n",
    "    download=True,\n",
    "    transform=ToTensor(),\n",
    ")"
   ]
  },
  {
   "cell_type": "code",
   "execution_count": 56,
   "id": "b4f4f39c",
   "metadata": {},
   "outputs": [
    {
     "data": {
      "text/plain": [
       "60000"
      ]
     },
     "execution_count": 56,
     "metadata": {},
     "output_type": "execute_result"
    }
   ],
   "source": [
    "len(training_data)"
   ]
  },
  {
   "cell_type": "code",
   "execution_count": 47,
   "id": "928babe8",
   "metadata": {},
   "outputs": [
    {
     "data": {
      "text/plain": [
       "tuple"
      ]
     },
     "execution_count": 47,
     "metadata": {},
     "output_type": "execute_result"
    }
   ],
   "source": [
    "subtrain=training_data[1]\n",
    "type(subtrain)"
   ]
  },
  {
   "cell_type": "code",
   "execution_count": 59,
   "id": "946714a8",
   "metadata": {},
   "outputs": [
    {
     "data": {
      "text/plain": [
       "torch.Size([1, 28, 28])"
      ]
     },
     "execution_count": 59,
     "metadata": {},
     "output_type": "execute_result"
    }
   ],
   "source": [
    "subtrain[0].shape"
   ]
  },
  {
   "cell_type": "code",
   "execution_count": 49,
   "id": "644e8db2",
   "metadata": {},
   "outputs": [
    {
     "data": {
      "text/plain": [
       "2"
      ]
     },
     "execution_count": 49,
     "metadata": {},
     "output_type": "execute_result"
    }
   ],
   "source": [
    "len(subtrain)"
   ]
  },
  {
   "cell_type": "code",
   "execution_count": 67,
   "id": "60c36411",
   "metadata": {},
   "outputs": [],
   "source": [
    "class FigureDataset(Dataset):\n",
    "    def __init__(self):\n",
    "        self.Data=torch.tensor([[1,1],[2,2],[3,3],[4,4]])\n",
    "        self.Label=torch.tensor([9,8,7,6])\n",
    "    def __getitem__(self, index):\n",
    "        image=self.Data[index]\n",
    "        label=self.Label[index]\n",
    "        return image, label\n",
    "    def __len__(self):\n",
    "        return len(self.Data)"
   ]
  },
  {
   "cell_type": "code",
   "execution_count": 68,
   "id": "74c4361c",
   "metadata": {},
   "outputs": [],
   "source": [
    "FDataset=FigureDataset()"
   ]
  },
  {
   "cell_type": "code",
   "execution_count": 80,
   "id": "9eb8903d",
   "metadata": {},
   "outputs": [
    {
     "name": "stdout",
     "output_type": "stream",
     "text": [
      "[tensor([[1, 1],\n",
      "        [2, 2]]), tensor([9, 8])]\n",
      "[tensor([[3, 3],\n",
      "        [4, 4]]), tensor([7, 6])]\n"
     ]
    }
   ],
   "source": [
    "for a in loader:\n",
    "    print(a)"
   ]
  },
  {
   "cell_type": "code",
   "execution_count": 79,
   "id": "310a7fb7",
   "metadata": {
    "scrolled": true
   },
   "outputs": [
    {
     "name": "stdout",
     "output_type": "stream",
     "text": [
      "i: 0\n",
      "dataset: [tensor([[1, 1],\n",
      "        [2, 2]]), tensor([9, 8])]\n",
      "Data: tensor([[1, 1],\n",
      "        [2, 2]])\n",
      "Label: tensor([9, 8])\n",
      "i: 1\n",
      "dataset: [tensor([[3, 3],\n",
      "        [4, 4]]), tensor([7, 6])]\n",
      "Data: tensor([[3, 3],\n",
      "        [4, 4]])\n",
      "Label: tensor([7, 6])\n"
     ]
    }
   ],
   "source": [
    "loader=DataLoader(FDataset,batch_size=2)\n",
    "#这里的enumerate() 函数用于将一个可遍历的数据对象,组合为一个索引序列,同时列出数据和数据下标\n",
    "for i,dataset in enumerate(loader):\n",
    "    print(\"i:\",i)\n",
    "    print(\"dataset:\",dataset)\n",
    "    data,label=dataset\n",
    "    print(\"Data:\",data)\n",
    "    print(\"Label:\",label)"
   ]
  }
 ],
 "metadata": {
  "kernelspec": {
   "display_name": "Python 3 (ipykernel)",
   "language": "python",
   "name": "python3"
  },
  "language_info": {
   "codemirror_mode": {
    "name": "ipython",
    "version": 3
   },
   "file_extension": ".py",
   "mimetype": "text/x-python",
   "name": "python",
   "nbconvert_exporter": "python",
   "pygments_lexer": "ipython3",
   "version": "3.9.7"
  }
 },
 "nbformat": 4,
 "nbformat_minor": 5
}
